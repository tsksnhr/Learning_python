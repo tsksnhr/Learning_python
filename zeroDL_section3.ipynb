{
 "cells": [
  {
   "cell_type": "code",
   "execution_count": 61,
   "metadata": {},
   "outputs": [],
   "source": [
    "import matplotlib.pyplot as plt\n",
    "import matplotlib.pylab as plab\n",
    "import numpy as np\n",
    "import math\n",
    "import sys\n",
    "import os\n",
    "import pickle\n",
    "\n",
    "from dataset.mnist import load_mnist\n",
    "from PIL import Image"
   ]
  },
  {
   "cell_type": "code",
   "execution_count": 51,
   "metadata": {},
   "outputs": [
    {
     "data": {
      "image/png": "[encoded data removed]",
      "text/plain": [
       "<Figure size 432x288 with 1 Axes>"
      ]
     },
     "metadata": {
      "needs_background": "light"
     },
     "output_type": "display_data"
    }
   ],
   "source": [
    "def sigmoid(x):\n",
    "\n",
    "    return 1/(1 + np.exp(-1*x))\n",
    "\n",
    "\n",
    "x = np.arange(-5, 5, 0.1)\n",
    "y = sigmoid(x)\n",
    "\n",
    "plt.plot(x, y, label = \"sigmoid\")\n",
    "plt.xlabel(\"x\")\n",
    "plt.ylabel(\"y\")\n",
    "plt.title(\"sigmoid_plot\")\n",
    "plt.show()"
   ]
  },
  {
   "cell_type": "code",
   "execution_count": 3,
   "metadata": {},
   "outputs": [
    {
     "data": {
      "image/png": "[encoded data removed]",
      "text/plain": [
       "<Figure size 432x288 with 1 Axes>"
      ]
     },
     "metadata": {
      "needs_background": "light"
     },
     "output_type": "display_data"
    }
   ],
   "source": [
    "def step_function(x):\n",
    "    \n",
    "    y = x > 0\n",
    "    return y.astype(np.int)\n",
    "\n",
    "x = np.arange(-5.0, 5.0, 0.1)\n",
    "y = step_function(x)\n",
    "\n",
    "plt.plot(x, y)\n",
    "plt.ylim(-0.1, 1.1)\n",
    "plt.title(\"step_function\")\n",
    "plt.show()"
   ]
  },
  {
   "cell_type": "code",
   "execution_count": 5,
   "metadata": {},
   "outputs": [
    {
     "data": {
      "image/png": "[encoded data removed]",
      "text/plain": [
       "<Figure size 432x288 with 1 Axes>"
      ]
     },
     "metadata": {
      "needs_background": "light"
     },
     "output_type": "display_data"
    }
   ],
   "source": [
    "def ReLU(x):\n",
    "    \n",
    "    return np.maximum(0, x)\n",
    "\n",
    "\n",
    "x = np.arange(-5, 5, 0.1)\n",
    "y = ReLU(x)\n",
    "\n",
    "plt.plot(x, y)\n",
    "plt.title(\"ReLU\")\n",
    "plt.show()"
   ]
  },
  {
   "cell_type": "code",
   "execution_count": 7,
   "metadata": {},
   "outputs": [
    {
     "name": "stdout",
     "output_type": "stream",
     "text": [
      "[ 5 11 17]\n"
     ]
    }
   ],
   "source": [
    "X_array = np.array([1, 2])\n",
    "W_array = np.array([[1, 3, 5], [2, 4, 6]])\n",
    "Y_array = np.dot(X_array, W_array)\n",
    "\n",
    "print(Y_array)"
   ]
  },
  {
   "cell_type": "code",
   "execution_count": 11,
   "metadata": {},
   "outputs": [
    {
     "name": "stdout",
     "output_type": "stream",
     "text": [
      "[1.28891943 1.89093421]\n"
     ]
    }
   ],
   "source": [
    "def init_network():\n",
    "    network = {}\n",
    "    network[\"W1\"] = np.array([[0.1, 0.3, 0.5], [0.2, 0.4, 0.6]])\n",
    "    network[\"b1\"] = np.array([0.1, 0.2, 0.3])\n",
    "    network[\"W2\"] = np.array([[0.1, 0.3], [0.5, 0.7], [0.9, 1.1]])\n",
    "    network[\"b2\"] = np.array([0.4, 0.5])\n",
    "    network[\"W3\"] = np.array([[0.1, 0.4], [0.7, 1.0]])\n",
    "    network[\"b3\"] = np.array([0.6, 0.7])\n",
    "    \n",
    "    return network\n",
    "\n",
    "def forward(network, x):\n",
    "    W1, W2 ,W3 = network[\"W1\"], network[\"W2\"], network[\"W3\"]\n",
    "    b1, b2 ,b3 = network[\"b1\"], network[\"b2\"], network[\"b3\"]\n",
    "    \n",
    "    a1 = np.dot(x, W1) + b1\n",
    "    z1 = sigmoid(a1)\n",
    "    \n",
    "    a2 = np.dot(z1, W2) + b2\n",
    "    z2 = sigmoid(a2)\n",
    "    \n",
    "    a3 = np.dot(z2, W3) + b3\n",
    "    z3 = a3\n",
    "    \n",
    "    y = z3\n",
    "    \n",
    "    return y\n",
    "\n",
    "network = init_network()\n",
    "x = np.array([0.25, 0.75])\n",
    "y = forward(network, x)\n",
    "\n",
    "print(y)"
   ]
  },
  {
   "cell_type": "code",
   "execution_count": 14,
   "metadata": {},
   "outputs": [
    {
     "name": "stdout",
     "output_type": "stream",
     "text": [
      "0.26930749917773783\n",
      "0.32893292228890664\n",
      "0.40175957853335537\n"
     ]
    }
   ],
   "source": [
    "def tiny_softmax_1(x, index):\n",
    "    \n",
    "    exp_x = np.exp(x)\n",
    "    sum_exp_x = np.sum(exp_x)\n",
    "    \n",
    "    return exp_x[index]/sum_exp_x\n",
    "\n",
    "x = np.array([0.1, 0.3, 0.5])\n",
    "\n",
    "for i in range(len(x)):\n",
    "    print(tiny_softmax(x, i))"
   ]
  },
  {
   "cell_type": "code",
   "execution_count": 39,
   "metadata": {},
   "outputs": [
    {
     "name": "stdout",
     "output_type": "stream",
     "text": [
      "over flow\n",
      "0.0\n",
      "nan\n",
      "nan\n",
      "not over flow\n",
      "0.0\n",
      "0.0\n",
      "1.0\n"
     ]
    },
    {
     "name": "stderr",
     "output_type": "stream",
     "text": [
      "C:\\Users\\chest\\anaconda3\\lib\\site-packages\\ipykernel_launcher.py:3: RuntimeWarning: overflow encountered in exp\n",
      "  This is separate from the ipykernel package so we can avoid doing imports until\n",
      "C:\\Users\\chest\\anaconda3\\lib\\site-packages\\ipykernel_launcher.py:6: RuntimeWarning: invalid value encountered in double_scalars\n",
      "  \n"
     ]
    }
   ],
   "source": [
    "def tiny_softmax_2(x, index):\n",
    "    \n",
    "    c = np.max(x)\n",
    "    exp_x = np.exp(x-c)\n",
    "    sum_exp_x = np.sum(exp_x)\n",
    "    \n",
    "    return exp_x[index]/sum_exp_x\n",
    "\n",
    "x = np.array([100, 3000, 50000])\n",
    "\n",
    "print(\"over flow\")\n",
    "for i in range(len(x)):\n",
    "    print(tiny_softmax(x, i))\n",
    "\n",
    "print(\"not over flow\")\n",
    "for i in range(len(x)):\n",
    "    print(softmax(x, i))"
   ]
  },
  {
   "cell_type": "code",
   "execution_count": 44,
   "metadata": {},
   "outputs": [],
   "source": [
    "def softmax(x):\n",
    "    x = x - np.max(x, axis = -1, keepdims = True)\n",
    "    return np.exp(x)/np.sum(np.exp(x), axis = -1, keepdims = True)"
   ]
  },
  {
   "cell_type": "code",
   "execution_count": 24,
   "metadata": {},
   "outputs": [
    {
     "name": "stdout",
     "output_type": "stream",
     "text": [
      "Downloading train-images-idx3-ubyte.gz ... \n",
      "Done\n",
      "Downloading train-labels-idx1-ubyte.gz ... \n",
      "Done\n",
      "Downloading t10k-images-idx3-ubyte.gz ... \n",
      "Done\n",
      "Downloading t10k-labels-idx1-ubyte.gz ... \n",
      "Done\n",
      "Converting train-images-idx3-ubyte.gz to NumPy Array ...\n",
      "Done\n",
      "Converting train-labels-idx1-ubyte.gz to NumPy Array ...\n",
      "Done\n",
      "Converting t10k-images-idx3-ubyte.gz to NumPy Array ...\n",
      "Done\n",
      "Converting t10k-labels-idx1-ubyte.gz to NumPy Array ...\n",
      "Done\n",
      "Creating pickle file ...\n",
      "Done!\n",
      "(60000, 784)\n",
      "(60000,)\n",
      "(10000, 784)\n",
      "(10000,)\n"
     ]
    }
   ],
   "source": [
    "# current directory の直上にdatasetディレクトリがあればいい\n",
    "# download用\n",
    "sys.path.append(os.pardir)\n",
    "\n",
    "(x_train, t_train), (x_test, t_test) = load_mnist(flatten = True, normalize = False)\n",
    "\n",
    "print(x_train.shape)\n",
    "print(t_train.shape)\n",
    "print(x_test.shape)\n",
    "print(t_test.shape)"
   ]
  },
  {
   "cell_type": "code",
   "execution_count": 29,
   "metadata": {},
   "outputs": [
    {
     "name": "stdout",
     "output_type": "stream",
     "text": [
      "5\n",
      "(784,)\n",
      "(28, 28)\n"
     ]
    }
   ],
   "source": [
    "def image_show(img):\n",
    "    pil_img = Image.fromarray(np.uint8(img))\n",
    "    pil_img.show()\n",
    "    \n",
    "    return None\n",
    "\n",
    "\n",
    "(x_train, t_train), (x_test, t_test) = load_mnist(flatten = True, normalize = False)\n",
    "\n",
    "img = x_train[0]\n",
    "label = t_train[0]\n",
    "print(label)\n",
    "\n",
    "print(img.shape)\n",
    "# 1次元配列を元の画像サイズに整形\n",
    "img = img.reshape(28, 28)\n",
    "print(img.shape)\n",
    "\n",
    "image_show(img)"
   ]
  },
  {
   "cell_type": "code",
   "execution_count": 60,
   "metadata": {},
   "outputs": [
    {
     "name": "stdout",
     "output_type": "stream",
     "text": [
      "cwd is C:\\Users\\chest\\Desktop\\python\\Learning_python\n",
      "Accuracy:0.9352\n"
     ]
    }
   ],
   "source": [
    "def get_data():\n",
    "    \n",
    "    # normalize = Falseでオーバーフロー\n",
    "    (x_train, t_train), (x_test, t_test) = load_mnist(flatten = True, normalize = True, one_hot_label = False)\n",
    "    \n",
    "    return x_test, t_test\n",
    "\n",
    "\n",
    "def init_network():\n",
    "    \n",
    "    with open(\".\\\\sample_weight.pkl\", 'rb') as f:\n",
    "        network = pickle.load(f)\n",
    "        \n",
    "        return network\n",
    "    \n",
    "\n",
    "def predict(network, x):\n",
    "    \n",
    "    W1, W2 ,W3 = network[\"W1\"], network[\"W2\"], network[\"W3\"]\n",
    "    b1, b2 ,b3 = network[\"b1\"], network[\"b2\"], network[\"b3\"]\n",
    "    \n",
    "    a1 = np.dot(x, W1) + b1\n",
    "    z1 = sigmoid(a1)\n",
    "    \n",
    "    a2 = np.dot(z1, W2) + b2\n",
    "    z2 = sigmoid(a2)\n",
    "    \n",
    "    a3 = np.dot(z2, W3) + b3\n",
    "    z3 = softmax(a3)\n",
    "    \n",
    "    y = z3\n",
    "    \n",
    "    return y\n",
    "\n",
    "print(\"cwd is \" + os.getcwd())\n",
    "\n",
    "# データ取得\n",
    "x, t = get_data()\n",
    "network = init_network()\n",
    "\n",
    "# テストデータ数だけループ\n",
    "accuracy_cnt = 0\n",
    "for i in range(len(x)):\n",
    "    y = predict(network, x[i])\n",
    "    p = np.argmax(y)\n",
    "    \n",
    "    # 最も確率の高いラベルとラベルの正解が一致してたら正答数をインクリメント\n",
    "    if p == t[i]:\n",
    "        accuracy_cnt += 1\n",
    "        \n",
    "# 正解の割合を表示\n",
    "print(\"Accuracy:\" + str(float(accuracy_cnt/len(x))))"
   ]
  },
  {
   "cell_type": "code",
   "execution_count": 57,
   "metadata": {},
   "outputs": [
    {
     "name": "stdout",
     "output_type": "stream",
     "text": [
      "Accuracy:0.9352\n"
     ]
    }
   ],
   "source": [
    "# データ取得\n",
    "x, t = get_data()\n",
    "network = init_network()\n",
    "\n",
    "# batch size\n",
    "batch_size = 100\n",
    "\n",
    "accuracy_cnt = 0\n",
    "\n",
    "for i in range(0, len(x), batch_size):\n",
    "    \n",
    "    x_batch = x[i:i+batch_size]\n",
    "    y_batch = predict(network, x_batch)\n",
    "    p = np.argmax(y_batch, axis = 1)\n",
    "    \n",
    "    # バッチごとに比較してaccuracy_cntをインクリメント\n",
    "    accuracy_cnt += np.sum(p == t[i:i+batch_size])\n",
    "    \n",
    "# 正解の割合を表示\n",
    "print(\"Accuracy:\" + str(float(accuracy_cnt/len(x))))"
   ]
  }
 ],
 "metadata": {
  "kernelspec": {
   "display_name": "Python 3",
   "language": "python",
   "name": "python3"
  },
  "language_info": {
   "codemirror_mode": {
    "name": "ipython",
    "version": 3
   },
   "file_extension": ".py",
   "mimetype": "text/x-python",
   "name": "python",
   "nbconvert_exporter": "python",
   "pygments_lexer": "ipython3",
   "version": "3.7.6"
  }
 },
 "nbformat": 4,
 "nbformat_minor": 4
}
