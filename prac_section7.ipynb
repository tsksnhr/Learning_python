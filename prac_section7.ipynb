{
 "cells": [
  {
   "cell_type": "code",
   "execution_count": 4,
   "metadata": {},
   "outputs": [
    {
     "name": "stdout",
     "output_type": "stream",
     "text": [
      "aaa 0 3\n",
      "aaa 1 4\n",
      "aaa 2 5\n",
      "aa 3 6\n",
      "a 4 7\n"
     ]
    }
   ],
   "source": [
    "test_str = \"aaaaa\"\n",
    "\n",
    "for i in range(len(test_str)):\n",
    "    message = test_str[i:i+3]\n",
    "    print(message, str(i), str(i+3))"
   ]
  },
  {
   "cell_type": "code",
   "execution_count": 52,
   "metadata": {},
   "outputs": [
    {
     "name": "stdout",
     "output_type": "stream",
     "text": [
      "123\n"
     ]
    }
   ],
   "source": [
    "import re\n",
    "\n",
    "num_regex = re.compile(r\"\"\"\n",
    "    (\n",
    "    (\\d{1,3})?\n",
    "    (,\\d{3})*\n",
    "    )\n",
    "    \"\"\", re.VERBOSE)\n",
    "\n",
    "mo = num_regex.search(\"1234\")\n",
    "\n",
    "if mo != None:\n",
    "    print(mo.group())\n",
    "else:\n",
    "    print(\"no match found.\")"
   ]
  },
  {
   "cell_type": "code",
   "execution_count": 44,
   "metadata": {},
   "outputs": [
    {
     "name": "stdout",
     "output_type": "stream",
     "text": [
      "no match found.\n"
     ]
    }
   ],
   "source": [
    "import re\n",
    "\n",
    "name_regex = re.compile(r\"\"\"\n",
    "    (\n",
    "    [A-Z][a-z]*\n",
    "    \\s\n",
    "    [A-Z][a-z]*\n",
    "    )\n",
    "    \"\"\", re.VERBOSE)\n",
    "\n",
    "mo = name_regex.search(\"akeshi Nakamoto\")\n",
    "\n",
    "if mo != None:\n",
    "    print(mo.group())\n",
    "else:\n",
    "    print(\"no match found.\")"
   ]
  },
  {
   "cell_type": "code",
   "execution_count": 53,
   "metadata": {},
   "outputs": [
    {
     "name": "stdout",
     "output_type": "stream",
     "text": [
      "aLice eats cats.\n",
      "aLice eats cats.\n"
     ]
    }
   ],
   "source": [
    "import re\n",
    "\n",
    "name_regex = re.compile(r\"\"\"\n",
    "    (\n",
    "    (Alice|Bob|Carol)\n",
    "    (\\s)\n",
    "    (eats|pets|throw)\n",
    "    (\\s)\n",
    "    (apples|cats|baseballs)\n",
    "    (\\.)\n",
    "    )\n",
    "    \"\"\", re.IGNORECASE|re.VERBOSE)\n",
    "\n",
    "s = input()\n",
    "mo = name_regex.search(s)\n",
    "\n",
    "if mo != None:\n",
    "    print(mo.group())\n",
    "else:\n",
    "    print(\"no match found.\")"
   ]
  },
  {
   "cell_type": "code",
   "execution_count": 60,
   "metadata": {},
   "outputs": [
    {
     "name": "stdout",
     "output_type": "stream",
     "text": [
      "Please type password: nmnmnmnmnnnmnmnmA3\n",
      "nmnmnmnmnnnmnmnmA3\n",
      "None\n",
      "None\n",
      "None\n",
      "None\n",
      "<re.Match object; span=(0, 18), match='nmnmnmnmnnnmnmnmA3'>\n",
      "None\n",
      "strong\n"
     ]
    }
   ],
   "source": [
    "# 7.18.1\n",
    "\n",
    "import re\n",
    "\n",
    "def chech_pw(arg_str):\n",
    "    \n",
    "    if len(arg_str) < 8:\n",
    "        return False\n",
    "    \n",
    "    match_0 = \"\"\"\n",
    "    (\n",
    "    (\\d)+\n",
    "    (\\w)*\n",
    "    [a-z]+\n",
    "    (\\w)*\n",
    "    [A-Z]+\n",
    "    (\\w)*\n",
    "    )\"\"\"\n",
    "\n",
    "    match_1 = \"\"\"\n",
    "    (\n",
    "    (\\d+)\n",
    "    (\\w*)\n",
    "    [A-Z]+\n",
    "    (\\w*)\n",
    "    [a-z]+\n",
    "    (\\w*)\n",
    "    )\"\"\"\n",
    "    \n",
    "    match_2 = \"\"\"\n",
    "    (\n",
    "    [A-Z]+\n",
    "    (\\w*)\n",
    "    (\\d+)\n",
    "    (\\w*)\n",
    "    [a-z]+\n",
    "    (\\w*)\n",
    "    )\"\"\"\n",
    "    \n",
    "    match_3 = \"\"\"\n",
    "    (\n",
    "    [a-z]+\n",
    "    (\\w*)\n",
    "    (\\d+)\n",
    "    (\\w*)\n",
    "    [A-Z]+\n",
    "    (\\w*)\n",
    "    )\"\"\"\n",
    "\n",
    "    match_4 = \"\"\"\n",
    "    (\n",
    "    [a-z]+\n",
    "    (\\w*)\n",
    "    [A-Z]+\n",
    "    (\\w*)\n",
    "    (\\d+)\n",
    "    (\\w*)\n",
    "    )\"\"\"\n",
    "    \n",
    "    match_5 = \"\"\"\n",
    "    (\n",
    "    [A-Z]+\n",
    "    (\\w*)\n",
    "    [a-z]+\n",
    "    (\\w*)\n",
    "    (\\d+)\n",
    "    (\\w*)\n",
    "    )\"\"\"\n",
    "    \n",
    "    pw_regex_0 = re.compile(match_0, re.VERBOSE)\n",
    "    pw_regex_1 = re.compile(match_1, re.VERBOSE)\n",
    "    pw_regex_2 = re.compile(match_2, re.VERBOSE)\n",
    "    pw_regex_3 = re.compile(match_3, re.VERBOSE)\n",
    "    pw_regex_4 = re.compile(match_4, re.VERBOSE)\n",
    "    pw_regex_5 = re.compile(match_5, re.VERBOSE)\n",
    "    \n",
    "    mo_0 = pw_regex_0.search(arg_str)\n",
    "    mo_1 = pw_regex_1.search(arg_str)\n",
    "    mo_2 = pw_regex_2.search(arg_str)\n",
    "    mo_3 = pw_regex_3.search(arg_str)\n",
    "    mo_4 = pw_regex_4.search(arg_str)\n",
    "    mo_5 = pw_regex_5.search(arg_str)\n",
    "    \n",
    "    print(arg_str)\n",
    "    print(mo_0)\n",
    "    print(mo_1)\n",
    "    print(mo_2)\n",
    "    print(mo_3)\n",
    "    print(mo_4)\n",
    "    print(mo_5)\n",
    "    \n",
    "    if mo_0 == mo_1 == mo_2 == mo_3 == mo_4 == mo_5 == None:\n",
    "        return False\n",
    "    else:\n",
    "        return True\n",
    "    \n",
    "    \n",
    "S = input(\"Please type password: \")\n",
    "\n",
    "flg = chech_pw(S)\n",
    "\n",
    "if flg:\n",
    "    print(\"strong\")\n",
    "else:\n",
    "    print(\"weak\")"
   ]
  },
  {
   "cell_type": "code",
   "execution_count": 29,
   "metadata": {},
   "outputs": [
    {
     "name": "stdout",
     "output_type": "stream",
     "text": [
      "type sentence:                  aaaa                     \n",
      "|                 aaaa                     |\n",
      "|aaaa|\n"
     ]
    }
   ],
   "source": [
    "# 7.18.2\n",
    "\n",
    "import re\n",
    "\n",
    "def tiny_strip(ogn_str, del_str = \"\\s\"):\n",
    "    \n",
    "    del_regex = re.compile(del_str)    \n",
    "    modified_str = del_regex.sub(\"\", ogn_str)\n",
    "    \n",
    "    return modified_str\n",
    "\n",
    "ogn_str = input(\"type sentence: \")\n",
    "print(\"|\" + ogn_str + \"|\")\n",
    "modified_str = tiny_strip(ogn_str, \" \")\n",
    "print(\"|\" + modified_str + \"|\")"
   ]
  }
 ],
 "metadata": {
  "kernelspec": {
   "display_name": "Python 3",
   "language": "python",
   "name": "python3"
  },
  "language_info": {
   "codemirror_mode": {
    "name": "ipython",
    "version": 3
   },
   "file_extension": ".py",
   "mimetype": "text/x-python",
   "name": "python",
   "nbconvert_exporter": "python",
   "pygments_lexer": "ipython3",
   "version": "3.7.6"
  }
 },
 "nbformat": 4,
 "nbformat_minor": 4
}
