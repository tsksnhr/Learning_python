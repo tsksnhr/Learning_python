{
 "cells": [
  {
   "cell_type": "code",
   "execution_count": 8,
   "metadata": {},
   "outputs": [
    {
     "name": "stdout",
     "output_type": "stream",
     "text": [
      "{'a': 1, 'b': 5, 'c': 4, 'e': 3, 'f': 2}\n",
      "{'a': 1, 'b': 5, 'c': 4, 'e': 3, 'f': 2}\n"
     ]
    }
   ],
   "source": [
    "import pprint\n",
    "\n",
    "test_dict = {\"a\": 1, \"f\": 2, \"e\": 3, \"c\": 4, \"b\": 5}\n",
    "\n",
    "print(pprint.pformat(test_dict))\n",
    "pprint.pprint(test_dict)"
   ]
  },
  {
   "cell_type": "code",
   "execution_count": 15,
   "metadata": {},
   "outputs": [
    {
     "name": "stdout",
     "output_type": "stream",
     "text": [
      "Item list: \n",
      "1\tRope\n",
      "6\tTorch\n",
      "42\tGold\n",
      "1\tSyuriken\n",
      "12\tArrow\n",
      "Total num: 62\n"
     ]
    }
   ],
   "source": [
    "def display_inventory(arg_dict):\n",
    "    print('Item list: ')\n",
    "    total = 0\n",
    "    for key, value in arg_dict.items():\n",
    "        print(value, \"\\t\", key, sep = '')\n",
    "        total += value\n",
    "    print(\"Total num: \" + str(total))\n",
    "    \n",
    "    \n",
    "stuff = {'Rope': 1, 'Torch': 6, 'Gold': 42, 'Syuriken': 1, 'Arrow': 12}\n",
    "display_inventory(stuff)"
   ]
  },
  {
   "cell_type": "code",
   "execution_count": 4,
   "metadata": {},
   "outputs": [
    {
     "name": "stdout",
     "output_type": "stream",
     "text": [
      "--- old ---\n",
      "Item list: \n",
      "1\tRope\n",
      "6\tTorch\n",
      "42\tGold\n",
      "1\tSyuriken\n",
      "12\tArrow\n",
      "Total num: 62\n",
      "--- new ---\n",
      "Item list: \n",
      "2\tRope\n",
      "10\tTorch\n",
      "43\tGold\n",
      "3\tSyuriken\n",
      "12\tArrow\n",
      "Total num: 70\n"
     ]
    }
   ],
   "source": [
    "def add_to_inventory(inventory_dict, added_inventory_list):\n",
    "    for a in added_inventory_list:\n",
    "        inventory_dict.setdefault(a, 0)\n",
    "        inventory_dict[a] += 1\n",
    "\n",
    "def display_inventory(arg_dict):\n",
    "    print('Item list: ')\n",
    "    total = 0\n",
    "    for key, value in arg_dict.items():\n",
    "        print(value, \"\\t\", key, sep = '')\n",
    "        total += value\n",
    "    print(\"Total num: \" + str(total))\n",
    "    \n",
    "\n",
    "stuff = {'Rope': 1, 'Torch': 6, 'Gold': 42, 'Syuriken': 1, 'Arrow': 12}\n",
    "add_list = ['Rope', 'Gold', 'Syuriken', 'Syuriken', 'Torch', 'Torch', 'Torch', 'Torch']\n",
    "print('--- old ---')\n",
    "display_inventory(stuff)\n",
    "print('--- new ---')\n",
    "add_to_inventory(stuff, add_list)\n",
    "display_inventory(stuff)"
   ]
  }
 ],
 "metadata": {
  "kernelspec": {
   "display_name": "Python 3",
   "language": "python",
   "name": "python3"
  },
  "language_info": {
   "codemirror_mode": {
    "name": "ipython",
    "version": 3
   },
   "file_extension": ".py",
   "mimetype": "text/x-python",
   "name": "python",
   "nbconvert_exporter": "python",
   "pygments_lexer": "ipython3",
   "version": "3.7.6"
  }
 },
 "nbformat": 4,
 "nbformat_minor": 4
}
