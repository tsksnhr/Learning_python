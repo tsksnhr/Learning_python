{
 "cells": [
  {
   "cell_type": "code",
   "execution_count": 14,
   "metadata": {},
   "outputs": [
    {
     "name": "stdout",
     "output_type": "stream",
     "text": [
      "        fb      sato       maz\n",
      "    arashi tatsumaki      wind\n",
      "      fire     torch      fuzz\n"
     ]
    }
   ],
   "source": [
    "def max_length(arg_list):\n",
    "    max_length = 0\n",
    "    for i in range(len(arg_list)):\n",
    "        for j in range(len(arg_list[i])):\n",
    "            buf = len(arg_list[i][j])\n",
    "            # print(buf)\n",
    "            if buf > max_length:\n",
    "                max_length = buf\n",
    "                \n",
    "    return max_length\n",
    "\n",
    "\n",
    "def print_table(arg_list):\n",
    "    max_num = max_length(arg_list) + 1\n",
    "    for i in range(len(arg_list)):\n",
    "        for j in range(len(arg_list[i])):\n",
    "            print(arg_list[i][j].rjust(max_num), end = \"\")\n",
    "        print()\n",
    "\n",
    "    \n",
    "test_list = [[\"fb\", \"sato\", \"maz\"], [\"arashi\", \"tatsumaki\", \"wind\"], [\"fire\", \"torch\", \"fuzz\"]]\n",
    "print_table(test_list)"
   ]
  }
 ],
 "metadata": {
  "kernelspec": {
   "display_name": "Python 3",
   "language": "python",
   "name": "python3"
  },
  "language_info": {
   "codemirror_mode": {
    "name": "ipython",
    "version": 3
   },
   "file_extension": ".py",
   "mimetype": "text/x-python",
   "name": "python",
   "nbconvert_exporter": "python",
   "pygments_lexer": "ipython3",
   "version": "3.7.6"
  }
 },
 "nbformat": 4,
 "nbformat_minor": 4
}
