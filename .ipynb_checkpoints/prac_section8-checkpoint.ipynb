{
 "cells": [
  {
   "cell_type": "code",
   "execution_count": 3,
   "metadata": {},
   "outputs": [
    {
     "data": {
      "text/plain": [
       "'C:\\\\Users\\\\chest\\\\Desktop\\\\python\\\\Learning_python'"
      ]
     },
     "execution_count": 3,
     "metadata": {},
     "output_type": "execute_result"
    }
   ],
   "source": [
    "import os\n",
    "\n",
    "os.path.join(\"a\", \"b\", \"c\")\n",
    "os.getcwd()"
   ]
  },
  {
   "cell_type": "code",
   "execution_count": 8,
   "metadata": {},
   "outputs": [],
   "source": [
    "import os\n",
    "\n",
    "os.makedirs(\"test_section8\\\\chd\")"
   ]
  },
  {
   "cell_type": "code",
   "execution_count": 19,
   "metadata": {},
   "outputs": [
    {
     "name": "stdout",
     "output_type": "stream",
     "text": [
      "C:\\Users\\chest\\Desktop\\python\\Learning_python\n",
      "False\n",
      "..\\..\\..\\..\\..\\Windows\\diagnostics\n"
     ]
    }
   ],
   "source": [
    "import os\n",
    "\n",
    "print(os.path.abspath(\".\\\\\"))\n",
    "print(os.path.isabs(\".\\\\\"))\n",
    "print(os.path.relpath(\"C:\\Windows\\diagnostics\"))"
   ]
  },
  {
   "cell_type": "code",
   "execution_count": 20,
   "metadata": {},
   "outputs": [
    {
     "data": {
      "text/plain": [
       "['.git',\n",
       " '.ipynb_checkpoints',\n",
       " 'foo.txt',\n",
       " 'pp_class.py',\n",
       " 'pp_class_1.py',\n",
       " 'pp_class_2.py',\n",
       " 'pp_container_01.py',\n",
       " 'pp_cubed.py',\n",
       " 'pp_file.opcl.py',\n",
       " 'pp_func_01.py',\n",
       " 'pp_hungman.py',\n",
       " 'pp_module.py',\n",
       " 'pp_roop.py',\n",
       " 'pp_wargame.py',\n",
       " 'prac_section4.ipynb',\n",
       " 'prac_section5.ipynb',\n",
       " 'prac_section6.ipynb',\n",
       " 'prac_section7.ipynb',\n",
       " 'prac_section8.ipynb',\n",
       " 'project_section6_1.py',\n",
       " 'project_section6_2.py',\n",
       " 'project_section7.py',\n",
       " 'p_array_01.py',\n",
       " 'p_array_02.py',\n",
       " 'p_array_03.py',\n",
       " 'p_array_04.py',\n",
       " 'p_calc_01.py',\n",
       " 'p_class_01.py',\n",
       " 'p_class_02.py',\n",
       " 'p_cvxopt_01.py',\n",
       " 'p_cvxopt_02.py',\n",
       " 'p_cvxopt_03.py',\n",
       " 'p_dictionary_01.py',\n",
       " 'p_dl4us_ws.py',\n",
       " 'p_exception_01.py',\n",
       " 'p_file_01.py',\n",
       " 'p_file_02.py',\n",
       " 'p_file_03.py',\n",
       " 'p_file_04.py',\n",
       " 'p_file_05.py',\n",
       " 'p_file_06.py',\n",
       " 'p_fizzbuzz_01.py',\n",
       " 'p_float_01.py',\n",
       " 'p_float_02.py',\n",
       " 'p_float_03.py',\n",
       " 'p_for_01.py',\n",
       " 'p_for_02.py',\n",
       " 'p_for_03.py',\n",
       " 'p_for_04.py',\n",
       " 'p_func_01.py',\n",
       " 'p_grad_01.py',\n",
       " 'p_grad_02.py',\n",
       " 'p_grad_03.py',\n",
       " 'p_graph_01.py',\n",
       " 'p_graph_02.py',\n",
       " 'p_graph_03.py',\n",
       " 'p_graph_04.py',\n",
       " 'p_graph_05.py',\n",
       " 'p_graph_06.py',\n",
       " 'p_graph_07.py',\n",
       " 'p_graph_08.py',\n",
       " 'p_if_01.py',\n",
       " 'p_if_02.py',\n",
       " 'p_kaigyo_01.py',\n",
       " 'p_lagrange_01.py',\n",
       " 'p_len_01.py',\n",
       " 'p_linopt_01.py',\n",
       " 'p_list_01.py',\n",
       " 'p_list_02.py',\n",
       " 'p_list_03.py',\n",
       " 'p_ml_01.py',\n",
       " 'p_ml_02.py',\n",
       " 'p_ml_03_LinearReg.py',\n",
       " 'p_ml_04.py',\n",
       " 'p_ml_05.py',\n",
       " 'p_ml_06_RidgeReg.py',\n",
       " 'p_ml_07.py',\n",
       " 'p_ml_08.py',\n",
       " 'p_ml_09.py',\n",
       " 'p_ml_10_PolynomialReg.py',\n",
       " 'p_ml_11.py',\n",
       " 'p_ml_12.py',\n",
       " 'p_ml_13.py',\n",
       " 'p_ml_14_Lasso.py',\n",
       " 'p_ml_15.py',\n",
       " 'p_ml_16_logisticReg.py',\n",
       " 'p_ml_17.py',\n",
       " 'p_module_01.py',\n",
       " 'p_module_02.py',\n",
       " 'p_module_03.py',\n",
       " 'p_module_04.py',\n",
       " 'p_newton_01.py',\n",
       " 'p_newton_02.py',\n",
       " 'p_newton_03.py',\n",
       " 'p_np_array_01to10.py',\n",
       " 'p_np_array_11to20.py',\n",
       " 'p_np_array_21to30.py',\n",
       " 'p_np_array_31to40.py',\n",
       " 'p_np_array_test.py',\n",
       " 'p_numpy_01.py',\n",
       " 'p_numpy_02.py',\n",
       " 'p_numpy_03.py',\n",
       " 'p_numpy_04.py',\n",
       " 'p_numpy_05.py',\n",
       " 'p_numpy_06.py',\n",
       " 'p_numpy_07.py',\n",
       " 'p_numpy_08.py',\n",
       " 'p_numpy_09.py',\n",
       " 'p_numpy_10.py',\n",
       " 'p_object_01.py',\n",
       " 'p_pickle_01.py',\n",
       " 'p_print_01.py',\n",
       " 'p_random_01.py',\n",
       " 'p_random_02.py',\n",
       " 'p_random_03.py',\n",
       " 'p_random_04.py',\n",
       " 'p_scipy_01.py',\n",
       " 'p_scipy_02.py',\n",
       " 'p_sequence_01.py',\n",
       " 'p_set_01.py',\n",
       " 'p_statistics_01.py',\n",
       " 'p_statistics_02.py',\n",
       " 'p_statistics_03.py',\n",
       " 'p_statistics_04.py',\n",
       " 'p_test_anaconda_env.py',\n",
       " 'p_tuple_01.py',\n",
       " 'p_type_01.py',\n",
       " 'p_while_01.py',\n",
       " 'README.md',\n",
       " 'test.py',\n",
       " 'test_matplot_200925.py',\n",
       " 'test_section8',\n",
       " '__pycache__']"
      ]
     },
     "execution_count": 20,
     "metadata": {},
     "output_type": "execute_result"
    }
   ],
   "source": [
    "import os\n",
    "\n",
    "os.listdir(\".\\\\\")"
   ]
  },
  {
   "cell_type": "code",
   "execution_count": 13,
   "metadata": {},
   "outputs": [
    {
     "name": "stdout",
     "output_type": "stream",
     "text": [
      "Enter NOUN: He\n",
      "Enter ADJECTIVE: smart\n",
      "Enter ADVERB: very\n"
     ]
    }
   ],
   "source": [
    "# 8.10.2\n",
    "\n",
    "import os\n",
    "import shelve\n",
    "\n",
    "if os.path.exists(\".\\\\prac8\") == False:\n",
    "    os.makedirs(\".\\\\prac8\")\n",
    "    \n",
    "    \n",
    "file_path = os.path.join(\".\", \"prac8\", \"8_10_2.txt\")\n",
    "file_obj = open(file_path)\n",
    "\n",
    "read_str = file_obj.read()\n",
    "\n",
    "rep_str = input(\"Enter NOUN: \")\n",
    "read_str = read_str.replace(\"NOUN\", rep_str)\n",
    "\n",
    "rep_str = input(\"Enter ADJECTIVE: \")\n",
    "read_str = read_str.replace(\"ADJECTIVE\", rep_str)\n",
    "\n",
    "rep_str = input(\"Enter ADVERB: \")\n",
    "read_str = read_str.replace(\"ADVERB\", rep_str)\n",
    "\n",
    "file_obj.close()\n",
    "\n",
    "\n",
    "file_path = os.path.join(\".\", \"prac8\", \"8_10_2_new.txt\")\n",
    "file_obj = open(file_path, \"w\")\n",
    "\n",
    "file_obj.write(read_str)\n",
    "\n",
    "file_obj.close()"
   ]
  },
  {
   "cell_type": "code",
   "execution_count": 29,
   "metadata": {},
   "outputs": [
    {
     "name": "stdout",
     "output_type": "stream",
     "text": [
      "Use regular expression: (.{1,3})(\\s)\n",
      "NOUN is ADVERB ADJECTIVE because NOUN is ADJECTIVE.\n",
      "He is very smart because He is smart.\n"
     ]
    }
   ],
   "source": [
    "# 8.10.3\n",
    "\n",
    "import os\n",
    "import re\n",
    "\n",
    "\n",
    "user_regex = re.compile(input(\"Use regular expression: \"))\n",
    "\n",
    "if os.path.exists(\".\\\\prac8\") == False:\n",
    "    os.makedirs(\".\\\\prac8\")\n",
    "    \n",
    "dir_path = \".\\\\prac8\"\n",
    "dir_lst = os.listdir(dir_path)\n",
    "\n",
    "output_lst = []\n",
    "\n",
    "for each_dir in dir_lst:\n",
    "    \n",
    "    file_path = os.path.join(\".\", \"prac8\", each_dir)\n",
    "    \n",
    "    if os.path.isfile(file_path) == True:\n",
    "        file_obj = open(file_path)\n",
    "        target_lst = file_obj.readlines()\n",
    "        \n",
    "        for target in target_lst:\n",
    "            mo = user_regex.search(target)\n",
    "            if mo != None:\n",
    "                output_lst.append(target)\n",
    "                \n",
    "        file_obj.close()\n",
    "        \n",
    "if output_lst == []:\n",
    "    print(\"No match.\")\n",
    "else:\n",
    "    for output in output_lst:\n",
    "        print(output)\n",
    "\n",
    "# End Of File"
   ]
  }
 ],
 "metadata": {
  "kernelspec": {
   "display_name": "Python 3",
   "language": "python",
   "name": "python3"
  },
  "language_info": {
   "codemirror_mode": {
    "name": "ipython",
    "version": 3
   },
   "file_extension": ".py",
   "mimetype": "text/x-python",
   "name": "python",
   "nbconvert_exporter": "python",
   "pygments_lexer": "ipython3",
   "version": "3.7.6"
  }
 },
 "nbformat": 4,
 "nbformat_minor": 4
}
