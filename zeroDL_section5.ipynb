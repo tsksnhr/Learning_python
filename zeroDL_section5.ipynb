{
 "cells": [
  {
   "cell_type": "code",
   "execution_count": 1,
   "metadata": {},
   "outputs": [],
   "source": [
    "# モジュールインポート\n",
    "import matplotlib.pyplot as plt\n",
    "import matplotlib.pylab as plab\n",
    "import numpy as np\n",
    "import math\n",
    "import sys\n",
    "import os\n",
    "import pickle\n",
    "import pprint\n",
    "from PIL import Image\n",
    "from mpl_toolkits.mplot3d import Axes3D\n",
    "\n",
    "# dataset.mnistをインポートするために親ディレクトリをpathに追加\n",
    "sys.path.append(os.pardir)\n",
    "from dataset.mnist import load_mnist"
   ]
  },
  {
   "cell_type": "code",
   "execution_count": 2,
   "metadata": {},
   "outputs": [],
   "source": [
    "# ライブラリ化した活性化関数のインポート\n",
    "\n",
    "#　シグモイド関数\n",
    "def sigmoid(x):\n",
    "    return 1/(1 + np.exp(-1*x))\n",
    "\n",
    "#　ステップ関数\n",
    "def step_function(x):\n",
    "    y = x > 0\n",
    "    return y.astype(np.int)\n",
    "\n",
    "#　ReLU関数\n",
    "def ReLU(x):\n",
    "    return np.maximum(0, x)\n",
    "\n",
    "#　ソフトマックス関数\n",
    "def softmax(x):\n",
    "    x = x - np.max(x, axis = -1, keepdims = True)\n",
    "    return np.exp(x)/np.sum(np.exp(x), axis = -1, keepdims = True)"
   ]
  },
  {
   "cell_type": "code",
   "execution_count": 3,
   "metadata": {},
   "outputs": [],
   "source": [
    "# 損失関数のインポート\n",
    "\n",
    "# 二乗和誤差\n",
    "def mean_squared_error(y, t):\n",
    "    \n",
    "    return 0.5*(np.sum((y-t)**2))\n",
    "\n",
    "# 交差エントロピー\n",
    "def cross_entropy_error(y, t):\n",
    "    \n",
    "    if y.ndim == 1:\n",
    "        # 1行の2次元配列を生成\n",
    "        # データが複数ある場合と1つしかない場合でこの後の処理を共有するため\n",
    "        t = t.reshape(1, t.size)\n",
    "        y = y.reshape(1, y.size)\n",
    "        \n",
    "    # one-hot-label の場合\n",
    "    if y.size == t.size:\n",
    "        # 1があるlabelに変換\n",
    "        t = t.argmax(axis = 1)\n",
    "    \n",
    "    # batch_size = データ数\n",
    "    batch_size = y.shape[0]\n",
    "\n",
    "    # 桁落ち防止\n",
    "    delta = 1e-7\n",
    "    # ベクトルyの中で、教師ラベルのデータ位置tだけ計算して交差エントロピーを計算\n",
    "    # y[2, 4]とかになる、これは3個目のデータの4番目の値となる\n",
    "    e = -np.sum(np.log(y[np.arange(batch_size), t] + 1e-7)) / batch_size\n",
    "    \n",
    "    return e"
   ]
  },
  {
   "cell_type": "code",
   "execution_count": 4,
   "metadata": {},
   "outputs": [],
   "source": [
    "#　数値微分(多次元ベクトル対応版)\n",
    "def numerical_gradient(f, x):\n",
    "    \n",
    "    h = 1e-4\n",
    "    grad = np.zeros_like(x)\n",
    "    \n",
    "    it = np.nditer(x, flags = [\"multi_index\"], op_flags = [\"readwrite\"])\n",
    "    # np.nditerによって多次元配列でも各要素ごとにループできる\n",
    "    while not it.finished:\n",
    "        idx = it.multi_index\n",
    "        tmp = x[idx]\n",
    "        \n",
    "        # f(x+h)\n",
    "        x[idx] = tmp + h\n",
    "        f_plus_h = f(x)\n",
    "        \n",
    "        # f(x+h)\n",
    "        x[idx] = tmp - h\n",
    "        f_minus_h = f(x)\n",
    "        \n",
    "        # diff\n",
    "        grad[idx] = (f_plus_h - f_minus_h)/(2*h)\n",
    "        x[idx] = tmp\n",
    "        \n",
    "        it.iternext()\n",
    "        \n",
    "    return grad"
   ]
  }
 ],
 "metadata": {
  "kernelspec": {
   "display_name": "Python 3",
   "language": "python",
   "name": "python3"
  },
  "language_info": {
   "codemirror_mode": {
    "name": "ipython",
    "version": 3
   },
   "file_extension": ".py",
   "mimetype": "text/x-python",
   "name": "python",
   "nbconvert_exporter": "python",
   "pygments_lexer": "ipython3",
   "version": "3.7.6"
  }
 },
 "nbformat": 4,
 "nbformat_minor": 4
}
