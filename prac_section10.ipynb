{
 "cells": [
  {
   "cell_type": "code",
   "execution_count": 1,
   "metadata": {},
   "outputs": [
    {
     "name": "stderr",
     "output_type": "stream",
     "text": [
      "2020-10-11 22:40:25,138 - DEBUG - factrial of 1 is 1\n",
      "2020-10-11 22:40:25,140 - DEBUG - factrial of 2 is 2\n",
      "2020-10-11 22:40:25,141 - DEBUG - factrial of 3 is 6\n",
      "2020-10-11 22:40:25,141 - DEBUG - factrial of 4 is 24\n",
      "2020-10-11 22:40:25,142 - DEBUG - ans = 24.\n",
      "Finished.\n",
      "2020-10-11 22:40:25,142 - DEBUG - factrial of 1 is 1\n",
      "2020-10-11 22:40:25,142 - DEBUG - factrial of 2 is 2\n",
      "2020-10-11 22:40:25,143 - DEBUG - factrial of 3 is 6\n",
      "2020-10-11 22:40:25,143 - DEBUG - factrial of 4 is 24\n",
      "2020-10-11 22:40:25,144 - DEBUG - factrial of 5 is 120\n",
      "2020-10-11 22:40:25,144 - DEBUG - factrial of 6 is 720\n",
      "2020-10-11 22:40:25,145 - DEBUG - factrial of 7 is 5040\n",
      "2020-10-11 22:40:25,146 - DEBUG - factrial of 8 is 40320\n",
      "2020-10-11 22:40:25,146 - DEBUG - factrial of 9 is 362880\n",
      "2020-10-11 22:40:25,147 - DEBUG - ans = 362880.\n",
      "Finished.\n"
     ]
    },
    {
     "name": "stdout",
     "output_type": "stream",
     "text": [
      "24\n",
      "362880\n"
     ]
    }
   ],
   "source": [
    "# module import\n",
    "import logging\n",
    "\n",
    "# logging enable\n",
    "logging.basicConfig(level = logging.DEBUG, format = \"%(asctime)s - %(levelname)s - %(message)s\")\n",
    "# logging disable\n",
    "# logging.disable(logging.CRITICAL)\n",
    "\n",
    "# define function\n",
    "def factorial(int_num):\n",
    "    \n",
    "    int_ans = 1\n",
    "    for i in range(1, int_num):\n",
    "        int_ans *= i\n",
    "        logging.debug(\"factrial of {} is {}\".format(i, int_ans))\n",
    "        \n",
    "    logging.debug(\"ans = {}.\\nFinished.\".format(int_ans))\n",
    "    return int_ans\n",
    "\n",
    "# test\n",
    "print(factorial(5))\n",
    "print(factorial(10))"
   ]
  },
  {
   "cell_type": "code",
   "execution_count": 14,
   "metadata": {},
   "outputs": [
    {
     "name": "stdout",
     "output_type": "stream",
     "text": [
      "24\n",
      "362880\n"
     ]
    }
   ],
   "source": [
    "# module import\n",
    "import logging\n",
    "\n",
    "# logging enable\n",
    "logging.basicConfig(filename = \"testlog.txt\", level = logging.DEBUG, format = \"%(asctime)s - %(levelname)s - %(message)s\")\n",
    "# logging disable\n",
    "# logging.disable(logging.CRITICAL)\n",
    "\n",
    "# define function\n",
    "def factorial(int_num):\n",
    "    \n",
    "    int_ans = 1\n",
    "    for i in range(1, int_num):\n",
    "        int_ans *= i\n",
    "        logging.debug(\"factrial of {} is {}\".format(i, int_ans))\n",
    "        \n",
    "    logging.debug(\"ans = {}.\\nFinished.\".format(int_ans))\n",
    "    return int_ans\n",
    "\n",
    "# test\n",
    "print(factorial(5))\n",
    "print(factorial(10))"
   ]
  },
  {
   "cell_type": "code",
   "execution_count": 8,
   "metadata": {},
   "outputs": [
    {
     "name": "stdout",
     "output_type": "stream",
     "text": [
      "Please enter \"surface\" or \"reverse\": surface\n"
     ]
    },
    {
     "name": "stderr",
     "output_type": "stream",
     "text": [
      "2020-10-11 23:24:31,082 - DEBUG - int_toss = 1, str_guess = surface\n",
      "2020-10-11 23:24:31,082 - DEBUG - int_toss = 1, int_guess = 1\n"
     ]
    },
    {
     "name": "stdout",
     "output_type": "stream",
     "text": [
      "correct!\n"
     ]
    }
   ],
   "source": [
    "# 10.8.1\n",
    "\n",
    "# module import\n",
    "import sys\n",
    "import random\n",
    "import logging\n",
    "\n",
    "# logging enable\n",
    "logging.basicConfig(level = logging.DEBUG, format = \"%(asctime)s - %(levelname)s - %(message)s\")\n",
    "\n",
    "str_guess = \"\"\n",
    "while str_guess not in (\"surface\", \"reverse\"):\n",
    "    str_guess = input(\"Please enter \\\"surface\\\" or \\\"reverse\\\": \")\n",
    "    \n",
    "    if str_guess == \"surface\":\n",
    "        int_guess = 1\n",
    "    else:\n",
    "        int_guess = 0\n",
    "    \n",
    "int_toss = random.randint(0, 1)\n",
    "logging.debug(\"int_toss = {}, str_guess = {}\".format(int_toss, str_guess))\n",
    "logging.debug(\"int_toss = {}, int_guess = {}\".format(int_toss, int_guess))\n",
    "\n",
    "if int_toss == int_guess:\n",
    "    print(\"correct!\")\n",
    "else:\n",
    "    print(\"one more chance!\")\n",
    "    str_guess = input(\"Please enter \\\"surface\\\" or \\\"reverse\\\": \")\n",
    "    logging.debug(\"int_toss = {}, str_guess = {}\".format(int_toss, str_guess))\n",
    "    logging.debug(\"int_toss = {}, int_guess = {}\".format(int_toss, int_guess))\n",
    "    \n",
    "    if int_toss == int_guess:\n",
    "        print(\"correct!\")\n",
    "    else:\n",
    "        print(\"You dead...\")\n"
   ]
  }
 ],
 "metadata": {
  "kernelspec": {
   "display_name": "Python 3",
   "language": "python",
   "name": "python3"
  },
  "language_info": {
   "codemirror_mode": {
    "name": "ipython",
    "version": 3
   },
   "file_extension": ".py",
   "mimetype": "text/x-python",
   "name": "python",
   "nbconvert_exporter": "python",
   "pygments_lexer": "ipython3",
   "version": "3.7.6"
  }
 },
 "nbformat": 4,
 "nbformat_minor": 4
}
