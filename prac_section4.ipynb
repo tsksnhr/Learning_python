{
 "cells": [
  {
   "cell_type": "code",
   "execution_count": 6,
   "metadata": {},
   "outputs": [
    {
     "name": "stdout",
     "output_type": "stream",
     "text": [
      "a, b, c, and d\n",
      "1, 2, 3, 4, and 5\n"
     ]
    }
   ],
   "source": [
    "def test(arg_list):\n",
    "    for i in range(len(arg_list)-1):\n",
    "        print(arg_list[i], \", \", sep = \"\", end = \"\")\n",
    "    print(\"and \", end = \"\")\n",
    "    print(arg_list[len(arg_list)-1])\n",
    "        \n",
    "spam = [\"a\", \"b\", \"c\", \"d\"]\n",
    "testlist = [1, 2, 3, 4, 5]\n",
    "test(spam)\n",
    "test(testlist)"
   ]
  },
  {
   "cell_type": "code",
   "execution_count": 10,
   "metadata": {},
   "outputs": [
    {
     "name": "stdout",
     "output_type": "stream",
     "text": [
      "3\n",
      "2\n",
      "2\n",
      "2\n"
     ]
    }
   ],
   "source": [
    "testlist = [[1, 2], [3, 4], [5, 6]]\n",
    "print(len(testlist))\n",
    "print(len(testlist[0]))\n",
    "print(len(testlist[1]))\n",
    "print(len(testlist[2]))"
   ]
  },
  {
   "cell_type": "code",
   "execution_count": 18,
   "metadata": {},
   "outputs": [
    {
     "name": "stdout",
     "output_type": "stream",
     "text": [
      "abc\n",
      "def\n",
      "ghi\n"
     ]
    }
   ],
   "source": [
    "def test2(arg_list):\n",
    "    for i in range(len(arg_list)):\n",
    "        for j in range(len(arg_list[i])):\n",
    "            print(arg_list[i][j], sep = \"\", end = \"\")\n",
    "        print()\n",
    "            \n",
    "testlist = [[\"a\", \"b\", \"c\"], [\"d\", \"e\", \"f\"], [\"g\", \"h\", \"i\"]]\n",
    "test2(testlist)"
   ]
  }
 ],
 "metadata": {
  "kernelspec": {
   "display_name": "Python 3",
   "language": "python",
   "name": "python3"
  },
  "language_info": {
   "codemirror_mode": {
    "name": "ipython",
    "version": 3
   },
   "file_extension": ".py",
   "mimetype": "text/x-python",
   "name": "python",
   "nbconvert_exporter": "python",
   "pygments_lexer": "ipython3",
   "version": "3.7.6"
  }
 },
 "nbformat": 4,
 "nbformat_minor": 4
}
